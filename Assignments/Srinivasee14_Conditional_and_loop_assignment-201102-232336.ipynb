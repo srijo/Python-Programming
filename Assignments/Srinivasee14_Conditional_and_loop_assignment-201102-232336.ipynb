{
 "cells": [
  {
   "cell_type": "markdown",
   "metadata": {
    "id": "wNRNTbrsc53d"
   },
   "source": [
    "# If - elif - else statement"
   ]
  },
  {
   "cell_type": "code",
   "execution_count": null,
   "metadata": {
    "id": "MiPfTnBycxNa"
   },
   "outputs": [],
   "source": [
    "#W. A P. which takes one number from 0 to 9 from the user and prints it in the word. And if the word is not from 0 to 9 then\n",
    "#it should print that number is outside of the range and program should exit.\n",
    "# For exapmple:- \n",
    "# input = 1\n",
    "# output = one\n",
    "#==================\n",
    "# Entered_Num = int(input('Enter a Number starting from 0-9: '))\n",
    "# if Entered_Num == 1:\n",
    "#     print('One')\n",
    "# elif Entered_Num== 2:\n",
    "#     print('Two')\n",
    "# elif Entered_Num == 3:\n",
    "#     print('Three')\n",
    "# elif Entered_Value == 4:\n",
    "#     print('Four')\n",
    "# elif Entered_Num == 5:\n",
    "#     print('Five')\n",
    "# elif Entered_Num == 6:\n",
    "#     print('Six')\n",
    "# elif Entered_Num == 7:\n",
    "#     print('Seven')\n",
    "# elif Entered_Num == 8:\n",
    "#     print('Eight')\n",
    "# elif Entered_Num == 9:\n",
    "#     print('Nine')\n",
    "# else:\n",
    "#     print('Entered Number is outside of the range')"
   ]
  },
  {
   "cell_type": "code",
   "execution_count": 33,
   "metadata": {},
   "outputs": [
    {
     "name": "stdout",
     "output_type": "stream",
     "text": [
      "Enter First number: 2\n",
      "Enter Second number: 2\n",
      "Enter the number to perfrom operation:   \n",
      "\t 1. Add  \n",
      "\t 2. Sub  \n",
      "\t 3. Mul  \n",
      "\t 4. True Div  \n",
      "\t 5. Quotient  \n",
      "\t 6. Remanider  \n",
      "\t 7. Exponent  \n",
      "\t 8. Exit  \n",
      "8\n"
     ]
    }
   ],
   "source": [
    "#W. A P. to implement calculator but the operation to be done and two numbers will be taken as input from user:-\n",
    "#Operation console should show below:-\n",
    "#     Please select any one operation from below:-\n",
    "#         * To add enter 1\n",
    "#         * to subtract enter 2\n",
    "#         * To multiply enter 3\n",
    "#         * To divide enter 4\n",
    "#         * To divide and find quotient enter 5\n",
    "#         * To divide and find remainder enter 6\n",
    "#         * To divide and find num1 to the power of num2 enter 7\n",
    "#         * To Come out of the program enter 8\n",
    "\n",
    "# num1 = eval(input('Enter First number: '))\n",
    "# num2 = eval(input('Enter Second number: '))\n",
    "# while True:\n",
    "#   op = int(input('Enter the number to perfrom operation: \\\n",
    "#   \\n\\t 1. Add\\\n",
    "#   \\n\\t 2. Sub\\\n",
    "#   \\n\\t 3. Mul\\\n",
    "#   \\n\\t 4. True Div\\\n",
    "#   \\n\\t 5. Quotient\\\n",
    "#   \\n\\t 6. Remanider\\\n",
    "#   \\n\\t 7. Exponent\\\n",
    "#   \\n\\t 8. Exit\\\n",
    "#   \\n'))\n",
    "\n",
    "#   if op == 1:\n",
    "#       print(num1+num2)\n",
    "#   elif op == 2:\n",
    "#       print(num1-num2)\n",
    "#   elif op == 3:\n",
    "#       print(num1*num2)\n",
    "#   elif op == 4:\n",
    "#       try:\n",
    "#           print(num1/num2)\n",
    "#       except ZeroDivisionError:\n",
    "#           print('Number can not be divided by 0')\n",
    "#   elif op == 5:\n",
    "#       try:\n",
    "#           print(num1//num2)\n",
    "#       except ZeroDivisionError:\n",
    "#           print('Number can not be divided by 0')\n",
    "#   elif op == 6:\n",
    "#       try:\n",
    "#           print(num1%num2)\n",
    "#       except ZeroDivisionError:\n",
    "#           print('Number can not be divided by 0')\n",
    "#   elif op == 7:\n",
    "#       print(num1**num2)\n",
    "#   elif op == 8:\n",
    "#       break\n",
    "#   else:\n",
    "#       print('Wrong operation input')"
   ]
  },
  {
   "cell_type": "code",
   "execution_count": 13,
   "metadata": {},
   "outputs": [
    {
     "name": "stdout",
     "output_type": "stream",
     "text": [
      "Enter an year: 1976\n",
      "Year is leap year\n"
     ]
    }
   ],
   "source": [
    "#W A P to check whether a year entered by user is an leap year or not?\n",
    "#Check with below input:-\n",
    "    #leap year:- 2012, 1968, 2004, 1200, 1600,2400\n",
    "    #Non-lear year:- 1971, 2006, 1700,1800,1900\n",
    "    \n",
    "# year = int(input('Enter an year: '))\n",
    "# if year % 4 == 0:\n",
    "#     if year % 100 == 0:\n",
    "#         if year % 400 == 0:\n",
    "#             print('year is leap year')\n",
    "#         else:\n",
    "#             print('Year is not leap year')\n",
    "#     else:\n",
    "#         print('Year is leap year')\n",
    "# else:\n",
    "#     print('Year is not leap year')"
   ]
  },
  {
   "cell_type": "code",
   "execution_count": 26,
   "metadata": {},
   "outputs": [
    {
     "name": "stdout",
     "output_type": "stream",
     "text": [
      "enter a value: 5656\n",
      "even number\n"
     ]
    }
   ],
   "source": [
    "#W A P which takes one number from the user and checks whether it is an even or odd number?, If it even then prints number is \n",
    "#even number else prints that number is odd number.\n",
    "\n",
    "# try:\n",
    "#     val=int(input('enter a value: '))\n",
    "# except:\n",
    "#     print('value error')\n",
    "# else:\n",
    "#     if(val%2==0):\n",
    "#         print('even number')\n",
    "#     else:\n",
    "#         print('odd number')"
   ]
  },
  {
   "cell_type": "code",
   "execution_count": 34,
   "metadata": {
    "id": "Q1HumymCdG6i"
   },
   "outputs": [
    {
     "name": "stdout",
     "output_type": "stream",
     "text": [
      "enter a number: 4\n",
      "enter a number: 2\n"
     ]
    },
    {
     "data": {
      "text/plain": [
       "'num1 is greater than num2'"
      ]
     },
     "execution_count": 34,
     "metadata": {},
     "output_type": "execute_result"
    }
   ],
   "source": [
    "#W A P which takes two numbers from the user and prints below output:-\n",
    "#     1. num1 is greater than num2 if num1 is greater than num2\n",
    "#     2. num1 is smaller than num2 if num1 is smaller than num2\n",
    "#     3. num1 is equal to num2 if num1 and num2 are equal\n",
    "\n",
    "#Note:- 1. Do this problem using if - else \n",
    "#       2. Do this using ternary operator\n",
    "\n",
    "# num1=int(input('enter a number: '))\n",
    "# num2=int(input('enter a number: '))\n",
    "# if(num1>num2):\n",
    "#     print('num1 is greater than num2')\n",
    "# else:\n",
    "#     if(num1<num2):\n",
    "#         print('num1 is less than num2')\n",
    "#     else:\n",
    "#         print('num1 is equal num2')\n",
    "\n",
    "# # turnary operator\n",
    "# num1=int(input('enter a number: '))\n",
    "# num2=int(input('enter a number: '))\n",
    "# 'num1 is greater than num2' if(num1>num2) else 'num1 is less than num2' if (num1<num2) else 'num1 is equal num2'"
   ]
  },
  {
   "cell_type": "code",
   "execution_count": 48,
   "metadata": {
    "id": "LR6TVB-DdOPf"
   },
   "outputs": [
    {
     "name": "stdout",
     "output_type": "stream",
     "text": [
      "enter a number: 2\n",
      "enter a number: 3\n",
      "enter a number: 4\n",
      "num3 is greater than num1 and num2\n"
     ]
    }
   ],
   "source": [
    "#W A P which takes three numbers from the user and prints below output:-\n",
    "#     1. num1 is greater than num2 and num3 if num1 is greater than num2 and num3\n",
    "#     2. num2 is greater than num1 and num3 if num2 is greater than num1 and num3\n",
    "#     3. num3 is greater than num1 and num2 if num3 is greater than num1 and num2\n",
    "\n",
    "#Note:- 1. Do this problem using if - elif - else \n",
    "#       2. Do this using ternary operator\n",
    "\n",
    "# a = a if a>b else b\n",
    "\n",
    "# num1=int(input('enter a number: '))\n",
    "# num2=int(input('enter a number: '))\n",
    "# num3=int(input('enter a number: '))\n",
    "# if(num1>num2 and num1>num3):\n",
    "#     print('num1 is greater than num2 and num3')\n",
    "# else:\n",
    "#     if(num2>num3 and num2>num1):\n",
    "#         print('num2 is greater than num1 and num2')\n",
    "#     else:\n",
    "#         if(num3>num1 and num3>num2):\n",
    "#             print('num3 is greater than num1 and num2')\n",
    "#         else:\n",
    "#             print('all numbers are equal')\n",
    "# # if-elif\n",
    "# num1 = int(input('enter a number: '))\n",
    "# num2 = int(input('enter a number: '))\n",
    "# num3 = int(input('enter a number: '))\n",
    "# if num1>num2 and num1>num3:\n",
    "#     print('num1 is greater than num2 and num3')\n",
    "# elif num2>num3:\n",
    "#     print('num2 is greater than num1 and num3')\n",
    "# elif num3>num1:\n",
    "#     print('num3 is greater than num1 and num2')\n",
    "# else:\n",
    "#     print('all numbers are equal')\n",
    "# # turnary operator\n",
    "# num1=int(input('enter a number: '))\n",
    "# num2=int(input('enter a number: '))\n",
    "# num3=int(input('enter a number: '))\n",
    "# 'num1 is greater than num2 and num3' if(num1>num2 and num1>num3) else 'num2 is greater than num1 and num2' if(num2>num3 and num2>num1) else 'num3 is greater than num1 and num2' if(num3>num1 and num3>num2) else 'all numbers are equal' \n"
   ]
  },
  {
   "cell_type": "markdown",
   "metadata": {
    "id": "IoOLQMUGdSox"
   },
   "source": [
    "# Loops - for loop, while loop"
   ]
  },
  {
   "cell_type": "code",
   "execution_count": 4,
   "metadata": {
    "id": "9K23Uld8dQfA"
   },
   "outputs": [
    {
     "name": "stdout",
     "output_type": "stream",
     "text": [
      "55\n"
     ]
    }
   ],
   "source": [
    "#Write a Python program to find the length of the my_str using loop:-\n",
    "\n",
    "#Input:- 'Write a Python program to find the length of the my_str'\n",
    "#Output:- 55\n",
    "\n",
    "# my_str='Write a Python program to find the length of the my_str'\n",
    "# len=0\n",
    "# for i in my_str:\n",
    "#     len+=1\n",
    "# print(len)"
   ]
  },
  {
   "cell_type": "code",
   "execution_count": 7,
   "metadata": {
    "id": "bp6AcqTsdYxy"
   },
   "outputs": [
    {
     "name": "stdout",
     "output_type": "stream",
     "text": [
      "9\n"
     ]
    }
   ],
   "source": [
    "#Write a Python program to find the total number of times letter 'p' is appeared in the below string using loop:-\n",
    "    \n",
    "#Input:- 'peter piper picked a peck of pickled peppers.\\n'\n",
    "#Output:- 9\n",
    "\n",
    "# my_str='peter piper picked a peck of pickled peppers.\\n'\n",
    "# count=0\n",
    "# for i in my_str:\n",
    "#     if(i=='p'):\n",
    "#         count+=1  \n",
    "# print(count)"
   ]
  },
  {
   "cell_type": "code",
   "execution_count": 2,
   "metadata": {
    "id": "xvxSBhTJdav1"
   },
   "outputs": [
    {
     "name": "stdout",
     "output_type": "stream",
     "text": [
      "0\n",
      "6\n",
      "8\n",
      "12\n",
      "21\n",
      "29\n",
      "37\n",
      "39\n",
      "40\n"
     ]
    }
   ],
   "source": [
    "#Write a Python Program, to print all the indexes of all occurences of letter 'p' appeared in the string using loop:-\n",
    "    \n",
    "#Input:- 'peter piper picked a peck of pickled peppers.'\n",
    "#Output:- \n",
    "# 0\n",
    "# 6\n",
    "# 8\n",
    "# 12\n",
    "# 21\n",
    "# 29\n",
    "# 37\n",
    "# 39\n",
    "# 40\n",
    "#Method1\n",
    "# my_str='peter piper picked a peck of pickled peppers.\\n'\n",
    "# index=0\n",
    "# for i in my_str:\n",
    "#     if(i=='p'):\n",
    "#         print(index)\n",
    "#     index+=1\n",
    "\n",
    "# #Method2\n",
    "# my_str = 'peter piper picked a peck of pickled peppers.\\n'\n",
    "# for j in range(len(my_str)):\n",
    "#     if my_str[j] == 'p':\n",
    "#         print(j)"
   ]
  },
  {
   "cell_type": "code",
   "execution_count": 50,
   "metadata": {
    "id": "79L_feMadbmw"
   },
   "outputs": [
    {
     "name": "stdout",
     "output_type": "stream",
     "text": [
      "['peter', 'piper', 'picked', 'a', 'peck', 'of', 'pickled', 'peppers']\n"
     ]
    }
   ],
   "source": [
    "#Write a python program to find below output using loop:-\n",
    "\n",
    "#Input:- 'peter piper picked a peck of pickled peppers.'\n",
    "#Output:- ['peter', 'piper', 'picked', 'a', 'peck', 'of', 'pickled', 'peppers']\n",
    "my_str = 'peter piper picked a peck of pickled peppers.'\n",
    "out_lst = []\n",
    "out_str = ''\n",
    "for i in my_str:\n",
    " if (i!=' ' and i!='.'):\n",
    "    out_str += i \n",
    " else:\n",
    "    out_lst.append(out_str)\n",
    "    out_str=''\n",
    "\n",
    "print(out_lst)"
   ]
  },
  {
   "cell_type": "code",
   "execution_count": 61,
   "metadata": {
    "id": "vzs5AJ53deVS"
   },
   "outputs": [
    {
     "name": "stdout",
     "output_type": "stream",
     "text": [
      " peppers pickled of peck a picked piper peter\n"
     ]
    }
   ],
   "source": [
    "#Write a python program to find below output using loop:-\n",
    "\n",
    "#Input:- 'peter piper picked a peck of pickled peppers.'\n",
    "#Output:- 'peppers pickled of peck a picked piper peter'\n",
    "my_str = 'peter piper picked a peck of pickled peppers.'\n",
    "final_str = ''\n",
    "out_str = ''\n",
    "for i in range(-2, -(len(my_str)+1), -1):\n",
    "  if my_str[i] != ' ':\n",
    "    out_str = my_str[i] + out_str\n",
    "  if  i == -(len(my_str)) or my_str[i] == ' ':\n",
    "    final_str = final_str + ' ' + out_str\n",
    "    out_str = ''\n",
    "print(final_str)\n"
   ]
  },
  {
   "cell_type": "code",
   "execution_count": 58,
   "metadata": {
    "id": "i-HP7DrCdhwS"
   },
   "outputs": [
    {
     "name": "stdout",
     "output_type": "stream",
     "text": [
      "45\n",
      ".sreppep delkcip fo kcep a dekcip repip retep\n"
     ]
    }
   ],
   "source": [
    "#Write a python program to find below output using loop:-\n",
    "\n",
    "#Input:- 'peter piper picked a peck of pickled peppers.'\n",
    "#Output:- '.sreppep delkcip fo kcep a dekcip repip retep'\n",
    "\n",
    "my_str = 'peter piper picked a peck of pickled peppers.'\n",
    "out_str = ''\n",
    "print(len(my_str))\n",
    "for i in range(-1, -(len(my_str)+1),-1):\n",
    "    out_str1=my_str[i]\n",
    "    out_str += out_str1\n",
    "print(out_str)"
   ]
  },
  {
   "cell_type": "code",
   "execution_count": 62,
   "metadata": {
    "id": "3rt6p0ytdkq0"
   },
   "outputs": [
    {
     "name": "stdout",
     "output_type": "stream",
     "text": [
      " retep repip dekcip a kcep fo delkcip sreppep\n"
     ]
    }
   ],
   "source": [
    "#Write a python program to find below output using loop:-\n",
    "\n",
    "#Input:- 'peter piper picked a peck of pickled peppers.'\n",
    "#Output:- 'retep repip dekcip a kcep fo delkcip sreppep'\n",
    "my_str = 'peter piper picked a peck of pickled peppers.'\n",
    "out_lst = []\n",
    "out_str = ''\n",
    "for i in my_str:\n",
    " if (i!=' ' and i!='.'):\n",
    "    out_str += i \n",
    " else:\n",
    "    out_lst.append(out_str)\n",
    "    out_str=''\n",
    "for i in out_lst:\n",
    "  out_str = out_str + ' ' + i[::-1]\n",
    "print(out_str)"
   ]
  },
  {
   "cell_type": "code",
   "execution_count": 105,
   "metadata": {
    "id": "HdlAWgT2dnKO"
   },
   "outputs": [
    {
     "name": "stdout",
     "output_type": "stream",
     "text": [
      "Peter Piper Picked A Peck Of Pickled Peppers\n"
     ]
    }
   ],
   "source": [
    "#Write a python program to find below output using loop:-\n",
    "\n",
    "#Input:- 'peter piper picked a peck of pickled peppers.'\n",
    "#Output:- 'Peter Piper Picked A Peck Of Pickled Peppers'\n",
    "my_str = 'peter piper picked a peck of pickled peppers.'\n",
    "out_lst = []\n",
    "out_str = ''\n",
    "for i in my_str:\n",
    " if (i!=' ' and i!='.'):\n",
    "    out_str += i \n",
    " else:\n",
    "    out_lst.append(out_str)\n",
    "    out_str=''\n",
    "spac=''\n",
    "for i in out_lst:\n",
    "    out_str = out_str + spac + chr(ord(i[0]) -32) + i[1:]\n",
    "    spac=' '\n",
    "print(out_str)\n"
   ]
  },
  {
   "cell_type": "code",
   "execution_count": 104,
   "metadata": {
    "id": "OthUuacodrNl"
   },
   "outputs": [
    {
     "name": "stdout",
     "output_type": "stream",
     "text": [
      "Peter piper picked a peck of pickled peppers\n"
     ]
    }
   ],
   "source": [
    "#Write a python program to find below output using loop:-\n",
    "\n",
    "#Input:- 'Peter Piper Picked A Peck Of Pickled Peppers.'\n",
    "#Output:- 'Peter piper picked a peck of pickled peppers'\n",
    "my_str = 'peter piper picked a peck of pickled peppers.'\n",
    "out_lst = []\n",
    "out_str = ''\n",
    "for i in my_str:\n",
    " if (i!=' ' and i!='.'):\n",
    "    out_str += i \n",
    " else:\n",
    "    out_lst.append(out_str)\n",
    "    out_str=''\n",
    "out_str1=out_lst[0]\n",
    "out_str2=out_str + chr(ord(out_str1[0]) -32) + out_str1[1:]\n",
    "out_lst[0]=out_str2\n",
    "spac=''\n",
    "for i in out_lst:\n",
    "    out_str = out_str + spac + i[0:]\n",
    "    spac=' '\n",
    "print(out_str)"
   ]
  },
  {
   "cell_type": "code",
   "execution_count": 88,
   "metadata": {
    "colab": {
     "base_uri": "https://localhost:8080/",
     "height": 34
    },
    "id": "scmDJE-ldsI9",
    "outputId": "4b1d1979-9f4a-4bc6-c505-b88b1bbd4d5d"
   },
   "outputs": [
    {
     "name": "stdout",
     "output_type": "stream",
     "text": [
      "29\n"
     ]
    }
   ],
   "source": [
    "#Write a python program to implement index method using loop. If sub_str is found in my_str then it will print the index\n",
    "# of first occurrence of first character of matching string in my_str:-\n",
    "\n",
    "#Input:- my_str = 'Peter Piper Picked A Peck Of Pickled Peppers.', sub_str = 'Pickl'\n",
    "#Output:- 29\n",
    "\n",
    "my_str = 'Peter Piper Picked A Peck Of Pickled Peppers.'\n",
    "out_lst = []\n",
    "out_str = ''\n",
    "sub_str='Pickl'\n",
    "j=0\n",
    "for i in my_str:\n",
    "    j+=1\n",
    "    if (i!=' ' and i!='.'):\n",
    "        out_str += i\n",
    "        if(out_str==sub_str):\n",
    "            print(j-len(sub_str))\n",
    "    else:\n",
    "        out_lst.append(out_str)\n",
    "        out_str=''"
   ]
  },
  {
   "cell_type": "code",
   "execution_count": 106,
   "metadata": {
    "id": "Kq_fwdb_dvYE"
   },
   "outputs": [
    {
     "name": "stdout",
     "output_type": "stream",
     "text": [
      "Peter Piper Picked A Pack Of Pickled Peppers.\n"
     ]
    }
   ],
   "source": [
    "#Write a python program to implement replace method using loop. If sub_str is found in my_str then it will replace the first \n",
    "#occurrence of sub_str with new_str else it will will print sub_str not found:-\n",
    "\n",
    "#Input:- my_str = 'Peter Piper Picked A Peck Of Pickled Peppers.', sub_str = 'Peck', new_str = 'Pack'\n",
    "#Output:- 'Peter Piper Picked A Pack Of Pickled Peppers.'\n",
    "\n",
    "my_str = 'Peter Piper Picked A Peck Of Pickled Peppers.'\n",
    "out_lst = []\n",
    "out_str = ''\n",
    "sub_str = 'Peck'\n",
    "new_str = 'Pack'\n",
    "for i in my_str:\n",
    " if (i!=' ' and i!='.'):\n",
    "    out_str += i\n",
    "    if(out_str==sub_str):\n",
    "        out_str=new_str\n",
    " else:\n",
    "    out_lst.append(out_str)\n",
    "    out_str=''\n",
    "\n",
    "spac=''\n",
    "for i in out_lst:\n",
    "    out_str = out_str + spac + i[0:]\n",
    "    spac=' '\n",
    "\n",
    "my_str = 'Peter Piper Picked A Peck Of Pickled Peppers.'\n",
    "my_str1=my_str.replace('Peck','Pack')\n",
    "print(my_str1)"
   ]
  },
  {
   "cell_type": "code",
   "execution_count": 126,
   "metadata": {
    "id": "4Qes5D0cdyd1"
   },
   "outputs": [
    {
     "name": "stdout",
     "output_type": "stream",
     "text": [
      "*********************Peck\n",
      "*********************Peck********************\n"
     ]
    }
   ],
   "source": [
    "#Write a python program to find below output (implements rjust and ljust) using loop:-\n",
    "\n",
    "#Input:- 'Peter Piper Picked A Peck Of Pickled Peppers.', sub_str = 'Peck', \n",
    "#Output:- '*********************Peck********************'\n",
    "\n",
    "my_str = 'Peter Piper Picked A Peck Of Pickled Peppers.'\n",
    "out_lst = []\n",
    "out_str = ''\n",
    "sub_str='Peck'\n",
    "j=0\n",
    "for i in my_str:\n",
    "    j+=1\n",
    "    if (i!=' ' and i!='.'):\n",
    "        out_str += i\n",
    "        if(out_str==sub_str):\n",
    "            k=j\n",
    "    else:\n",
    "        out_lst.append(out_str)\n",
    "        out_str=''\n",
    "my_str1=sub_str.rjust(k,'*')\n",
    "my_str2=my_str1.ljust(len(my_str),'*')\n",
    "print(my_str2)\n"
   ]
  },
  {
   "cell_type": "code",
   "execution_count": 141,
   "metadata": {
    "id": "DsOrb07Od0lR"
   },
   "outputs": [
    {
     "name": "stdout",
     "output_type": "stream",
     "text": [
      "['This', 'is', ' Python class']\n"
     ]
    }
   ],
   "source": [
    "#Write a python program to find below output using loop:-\n",
    "\n",
    "#Input:- 'This is Python class', sep = ' is', \n",
    "#Output:- ['This', 'is', 'Python class']\n",
    "\n",
    "my_str = 'This is Python class'\n",
    "out_lst = []\n",
    "out_str = ''\n",
    "sup='is'\n",
    "j=0\n",
    "for i in my_str:\n",
    "    j+=1\n",
    "    if (i!=' ' and i!='.'):\n",
    "        out_str += i\n",
    "        if(out_str==sup):\n",
    "            out_lst.append(out_str)\n",
    "            out_str=my_str[j:len(my_str)]\n",
    "            out_lst.append(out_str)\n",
    "            break\n",
    "    else:\n",
    "        out_lst.append(out_str)\n",
    "        out_str=''\n",
    "print(out_lst)"
   ]
  }
 ],
 "metadata": {
  "colab": {
   "name": "Conditional_and_loop_assignment.ipynb",
   "provenance": []
  },
  "kernelspec": {
   "display_name": "Python 3",
   "language": "python",
   "name": "python3"
  },
  "language_info": {
   "codemirror_mode": {
    "name": "ipython",
    "version": 3
   },
   "file_extension": ".py",
   "mimetype": "text/x-python",
   "name": "python",
   "nbconvert_exporter": "python",
   "pygments_lexer": "ipython3",
   "version": "3.8.3"
  }
 },
 "nbformat": 4,
 "nbformat_minor": 1
}
