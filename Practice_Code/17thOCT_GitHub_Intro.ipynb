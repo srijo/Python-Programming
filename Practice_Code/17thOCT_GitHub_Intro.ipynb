{
 "cells": [
  {
   "cell_type": "code",
   "execution_count": null,
   "metadata": {},
   "outputs": [],
   "source": [
    "# Os Commands:-\n",
    "pwd -> Present Working directory\n",
    "ls -> lists all files and folders in currnet directory\n",
    "ls -al -> lists all files and folders in currnet directory including hiiden files\n",
    "cd .. -> Move one directory back\n",
    "cd Directory_Name/Path -> Move to Specified directory availbale in CWD\n",
    "mkdir Directory_Name -> Creates a directory with specified name\n",
    "mv 'src directory name' 'dst directory name' - moves\n",
    "rmdir Dir_name - removes directory\n",
    "================================\n",
    "# Git Commands:-\n",
    "For set up\n",
    "git config --global user.name User_name_in_quotation_if_space_in_name\n",
    "git config --global user.email User_email_id\n",
    "git config --global core.autocrlf true(Win)/input(Mac)\n",
    "git config --global --list\n",
    "\n",
    "\n",
    "git clone Repo_link -> Clones the repository from cloud to your local system\n",
    "git status - to check the status of the repo\n",
    "git add Dir_name/FileName_with_Extension - Move the file to staging area\n",
    "git commit -m 'msg' - move the file to local repo with the msg\n",
    "git push - push the code to cloud repo (Will ask for credentail while doing first time)\n",
    "gil pull - pulling all the changes from your cloud repo to local repo\n",
    "From Learnbay Data Science to Everyone:  09:56 AM\n",
    "==================================\n",
    "# File realted operation\n",
    "To open a file from CLI - vim filename.ext\n",
    "to go into insert mode - press 'i'\n",
    "to save and exit - press - 'esc' + :wq\n"
   ]
  }
 ],
 "metadata": {
  "kernelspec": {
   "display_name": "Python 3",
   "language": "python",
   "name": "python3"
  },
  "language_info": {
   "codemirror_mode": {
    "name": "ipython",
    "version": 3
   },
   "file_extension": ".py",
   "mimetype": "text/x-python",
   "name": "python",
   "nbconvert_exporter": "python",
   "pygments_lexer": "ipython3",
   "version": "3.8.3"
  }
 },
 "nbformat": 4,
 "nbformat_minor": 4
}
