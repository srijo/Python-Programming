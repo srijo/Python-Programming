{
 "cells": [
  {
   "cell_type": "code",
   "execution_count": 7,
   "metadata": {},
   "outputs": [
    {
     "name": "stdout",
     "output_type": "stream",
     "text": [
      "This is first string <class 'str'>\n",
      "This is first string\n",
      "This is Second String <class 'str'>\n",
      "This is Second String\n",
      "This is Second' String <class 'str'>\n",
      "This is Second' String\n"
     ]
    }
   ],
   "source": [
    "#String:\n",
    "    '',\"\",''''''\n",
    "A='This is first string'\n",
    "print(A,type(A))\n",
    "print(A)\n",
    "A=\"This is Second String\"\n",
    "print(A,type(A))\n",
    "print(A)\n",
    "A=\"This is Second' String\"\n",
    "print(A,type(A))\n",
    "print(A)"
   ]
  },
  {
   "cell_type": "code",
   "execution_count": 37,
   "metadata": {},
   "outputs": [
    {
     "name": "stdout",
     "output_type": "stream",
     "text": [
      "T\n",
      "i\n",
      "First\n",
      "Frt\n",
      "trF\n",
      "\n",
      " is\n",
      "This is First String\n",
      "This is First String\n",
      "s P\n"
     ]
    }
   ],
   "source": [
    "#Indexing:\n",
    "A=\"This is First String\"\n",
    "#012345678910111213141516171819\n",
    "#This is Fi r s t  S t r i n g\n",
    "#\n",
    "#+ve indexing from left and 0\n",
    "#-ve indexing from left and -1\n",
    "print(A[0])\n",
    "print(A[-3])\n",
    "#Slicing\n",
    "#str_name[start:stop+1:step]\n",
    "#Start and stop numbers can be +ve or -ve\n",
    "#0   1  2  3\n",
    "#P   Y  T  H\n",
    "#-4 -3 -2 -1\n",
    "#step= what character from start of string and which which direction\n",
    "#Step +ve= left to right\n",
    "#Step -ve right to left\n",
    "#Default value for step is 1\n",
    "\n",
    "print(A[8:13])\n",
    "print(A[8:13:2])\n",
    "print(A[-8:-13:-2])\n",
    "print(A[-8:-13:2])\n",
    "print(A[-13:-8:2])\n",
    "print(A[:len(A)])\n",
    "print(A[:20])\n",
    "len(A)\n",
    "B='This is Python Class'\n",
    "\n",
    "# if step is -ve the default start -1 and stop=-(length(str)+1)\n",
    "#print(B[-1:-(len(B)+1):-1])\n",
    "print(B[-14:9])"
   ]
  },
  {
   "cell_type": "code",
   "execution_count": null,
   "metadata": {},
   "outputs": [],
   "source": []
  },
  {
   "cell_type": "code",
   "execution_count": null,
   "metadata": {},
   "outputs": [],
   "source": []
  },
  {
   "cell_type": "code",
   "execution_count": null,
   "metadata": {},
   "outputs": [],
   "source": []
  },
  {
   "cell_type": "code",
   "execution_count": null,
   "metadata": {},
   "outputs": [],
   "source": []
  },
  {
   "cell_type": "code",
   "execution_count": null,
   "metadata": {},
   "outputs": [],
   "source": []
  },
  {
   "cell_type": "code",
   "execution_count": null,
   "metadata": {},
   "outputs": [],
   "source": []
  },
  {
   "cell_type": "code",
   "execution_count": null,
   "metadata": {},
   "outputs": [],
   "source": []
  }
 ],
 "metadata": {
  "kernelspec": {
   "display_name": "Python 3",
   "language": "python",
   "name": "python3"
  },
  "language_info": {
   "codemirror_mode": {
    "name": "ipython",
    "version": 3
   },
   "file_extension": ".py",
   "mimetype": "text/x-python",
   "name": "python",
   "nbconvert_exporter": "python",
   "pygments_lexer": "ipython3",
   "version": "3.8.3"
  }
 },
 "nbformat": 4,
 "nbformat_minor": 4
}
