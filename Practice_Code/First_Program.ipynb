{
 "cells": [
  {
   "cell_type": "code",
   "execution_count": 1,
   "metadata": {},
   "outputs": [
    {
     "name": "stdout",
     "output_type": "stream",
     "text": [
      "\n",
      "Please wait a moment while I gather a list of all available modules...\n",
      "\n"
     ]
    },
    {
     "name": "stderr",
     "output_type": "stream",
     "text": [
      "C:\\ProgramData\\Anaconda3\\lib\\site-packages\\IPython\\kernel\\__init__.py:12: ShimWarning: The `IPython.kernel` package has been deprecated since IPython 4.0.You should import from ipykernel or jupyter_client instead.\n",
      "  warn(\"The `IPython.kernel` package has been deprecated since IPython 4.0.\"\n",
      "C:\\ProgramData\\Anaconda3\\lib\\site-packages\\nltk\\twitter\\__init__.py:21: UserWarning: The twython library has not been installed. Some functionality from the twitter package will not be available.\n",
      "  warnings.warn(\n",
      "C:\\ProgramData\\Anaconda3\\lib\\site-packages\\setuptools\\distutils_patch.py:25: UserWarning: Distutils was imported before Setuptools. This usage is discouraged and may exhibit undesirable behaviors or errors. Please use Setuptools' objects directly or at least import Setuptools first.\n",
      "  warnings.warn(\n",
      "C:\\ProgramData\\Anaconda3\\lib\\site-packages\\skimage\\viewer\\utils\\__init__.py:1: UserWarning: Recommended matplotlib backend is `Agg` for full skimage.viewer functionality.\n",
      "  from .core import *\n"
     ]
    },
    {
     "name": "stdout",
     "output_type": "stream",
     "text": [
      "Update LANGUAGE_CODES (inside config/base.py) if a new translation has been added to Spyder\n"
     ]
    },
    {
     "name": "stderr",
     "output_type": "stream",
     "text": [
      "C:\\ProgramData\\Anaconda3\\lib\\site-packages\\qtawesome\\iconic_font.py:312: UserWarning: You need to have a running QApplication to use QtAwesome!\n",
      "  warnings.warn(\"You need to have a running \"\n",
      "C:\\ProgramData\\Anaconda3\\lib\\pkgutil.py:107: VisibleDeprecationWarning: zmq.eventloop.minitornado is deprecated in pyzmq 14.0 and will be removed.\n",
      "    Install tornado itself to use zmq with the tornado IOLoop.\n",
      "    \n",
      "  yield from walk_packages(path, info.name+'.', onerror)\n"
     ]
    },
    {
     "name": "stdout",
     "output_type": "stream",
     "text": [
      "Cython              brain_scipy_signal  marshal             socketserver\n",
      "IPython             brain_six           math                socks\n",
      "OpenSSL             brain_ssl           matplotlib          sockshandler\n",
      "PIL                 brain_subprocess    mccabe              sortedcollections\n",
      "PyQt5               brain_threading     menuinst            sortedcontainers\n",
      "__future__          brain_typing        mimetypes           soupsieve\n",
      "_abc                brain_uuid          mistune             sphinx\n",
      "_ast                brotli              mkl                 sphinxcontrib\n",
      "_asyncio            bs4                 mkl_fft             spyder\n",
      "_bisect             builtins            mkl_random          spyder_kernels\n",
      "_blake2             bz2                 mmap                sqlalchemy\n",
      "_bootlocale         cProfile            mmapfile            sqlite3\n",
      "_bz2                calendar            mmsystem            sre_compile\n",
      "_cffi_backend       certifi             mock                sre_constants\n",
      "_codecs             cffi                modulefinder        sre_parse\n",
      "_codecs_cn          cgi                 more_itertools      ssl\n",
      "_codecs_hk          cgitb               mpmath              sspi\n",
      "_codecs_iso2022     chardet             msgpack             sspicon\n",
      "_codecs_jp          chunk               msilib              stat\n",
      "_codecs_kr          click               msvcrt              statistics\n",
      "_codecs_tw          cloudpickle         multipledispatch    statsmodels\n",
      "_collections        clyent              multiprocessing     storemagic\n",
      "_collections_abc    cmath               nacl                string\n",
      "_compat_pickle      cmd                 navigator_updater   stringprep\n",
      "_compression        code                nbconvert           struct\n",
      "_contextvars        codecs              nbformat            subprocess\n",
      "_csv                codeop              netbios             sunau\n",
      "_ctypes             collections         netrc               symbol\n",
      "_ctypes_test        colorama            networkx            sympy\n",
      "_datetime           colorsys            nltk                sympyprinting\n",
      "_decimal            commctrl            nntplib             symtable\n",
      "_dummy_thread       compileall          nose                sys\n",
      "_elementtree        comtypes            notebook            sysconfig\n",
      "_functools          concurrent          nt                  tables\n",
      "_hashlib            conda               ntpath              tabnanny\n",
      "_heapq              conda_build         ntsecuritycon       tarfile\n",
      "_imp                conda_env           nturl2path          tblib\n",
      "_io                 conda_package_handling numba               telnetlib\n",
      "_json               conda_verify        numbers             tempfile\n",
      "_locale             configparser        numexpr             terminado\n",
      "_lsprof             contextlib          numpy               test\n",
      "_lzma               contextlib2         numpydoc            test_data\n",
      "_markupbase         contextvars         odbc                test_pycosat\n",
      "_md5                copy                olefile             testpath\n",
      "_msi                copyreg             opcode              tests\n",
      "_multibytecodec     crypt               openpyxl            textwrap\n",
      "_multiprocessing    cryptography        operator            this\n",
      "_nsis               csv                 optparse            threading\n",
      "_opcode             ctypes              os                  threadpoolctl\n",
      "_operator           curl                packaging           time\n",
      "_osx_support        curses              pandas              timeit\n",
      "_overlapped         cwp                 pandocfilters       timer\n",
      "_pickle             cycler              paramiko            tkinter\n",
      "_py_abc             cython              parser              tlz\n",
      "_pydecimal          cythonmagic         parso               token\n",
      "_pyio               cytoolz             partd               tokenize\n",
      "_pyrsistent_version dask                past                toml\n",
      "_pytest             dataclasses         path                toolz\n",
      "_queue              datetime            pathlib             tornado\n",
      "_random             dateutil            pathlib2            tqdm\n",
      "_sha1               dbi                 pathtools           trace\n",
      "_sha256             dbm                 patsy               traceback\n",
      "_sha3               dde                 pdb                 tracemalloc\n",
      "_sha512             decimal             pep8                traitlets\n",
      "_signal             decorator           perfmon             tty\n",
      "_sitebuiltins       defusedxml          pexpect             turtle\n",
      "_socket             diff_match_patch    pickle              turtledemo\n",
      "_sqlite3            difflib             pickleshare         types\n",
      "_sre                dis                 pickletools         typing\n",
      "_ssl                distributed         pip                 typing_extensions\n",
      "_stat               distutils           pipes               ujson\n",
      "_statistics         doctest             pkg_resources       unicodecsv\n",
      "_string             docutils            pkginfo             unicodedata\n",
      "_strptime           dummy_threading     pkgutil             unittest\n",
      "_struct             easy_install        platform            urllib\n",
      "_symtable           email               plistlib            urllib3\n",
      "_system_path        encodings           pluggy              uu\n",
      "_testbuffer         ensurepip           ply                 uuid\n",
      "_testcapi           entrypoints         poplib              venv\n",
      "_testconsole        enum                posixpath           warnings\n",
      "_testimportmultiple errno               pprint              watchdog\n",
      "_testinternalcapi   et_xmlfile          profile             wave\n",
      "_testmultiphase     fastcache           prometheus_client   wcwidth\n",
      "_thread             faulthandler        prompt_toolkit      weakref\n",
      "_threading_local    filecmp             pstats              webbrowser\n",
      "_tkinter            fileinput           psutil              webencodings\n",
      "_tracemalloc        filelock            pty                 werkzeug\n",
      "_warnings           flake8              pvectorc            wheel\n",
      "_weakref            flask               py                  widgetsnbextension\n",
      "_weakrefset         fnmatch             py_compile          win2kras\n",
      "_win32sysloader     formatter           pyclbr              win32api\n",
      "_winapi             fractions           pycodestyle         win32clipboard\n",
      "_winxptheme         fsspec              pycosat             win32com\n",
      "_xxsubinterpreters  ftplib              pycparser           win32con\n",
      "_yaml               functools           pycurl              win32console\n",
      "abc                 future              pydoc               win32cred\n",
      "adodbapi            gc                  pydoc_data          win32crypt\n",
      "afxres              genericpath         pydocstyle          win32cryptcon\n",
      "aifc                getopt              pyexpat             win32ctypes\n",
      "alabaster           getpass             pyflakes            win32event\n",
      "anaconda_navigator  gettext             pygments            win32evtlog\n",
      "anaconda_project    gevent              pylab               win32evtlogutil\n",
      "antigravity         glob                pylint              win32file\n",
      "argh                glob2               pyls                win32gui\n",
      "argparse            gmpy2               pyls_jsonrpc        win32gui_struct\n",
      "array               greenlet            pyodbc              win32help\n",
      "asn1crypto          gzip                pyparsing           win32inet\n",
      "ast                 h5py                pyreadline          win32inetcon\n",
      "astroid             hashlib             pyrsistent          win32job\n",
      "astropy             heapdict            pytest              win32lz\n",
      "asynchat            heapq               pythoncom           win32net\n",
      "asyncio             hmac                pytz                win32netcon\n",
      "asyncore            html                pywin               win32pdh\n",
      "atexit              html5lib            pywin32_bootstrap   win32pdhquery\n",
      "atomicwrites        http                pywin32_testutil    win32pdhutil\n",
      "attr                idlelib             pywintypes          win32pipe\n",
      "audioop             idna                pywt                win32print\n"
     ]
    },
    {
     "name": "stdout",
     "output_type": "stream",
     "text": [
      "autopep8            imageio             pyximport           win32process\n",
      "autoreload          imagesize           qdarkstyle          win32profile\n",
      "babel               imaplib             qtawesome           win32ras\n",
      "backcall            imghdr              qtconsole           win32rcparser\n",
      "backports           imp                 qtpy                win32security\n",
      "base64              importlib           queue               win32service\n",
      "bcrypt              importlib_metadata  quopri              win32serviceutil\n",
      "bdb                 inspect             random              win32timezone\n",
      "binascii            intervaltree        rasutil             win32trace\n",
      "binhex              io                  re                  win32traceutil\n",
      "binstar_client      ipaddress           readline            win32transaction\n",
      "bisect              ipykernel           regcheck            win32ts\n",
      "bitarray            ipykernel_launcher  regex               win32ui\n",
      "bkcharts            ipython_genutils    regutil             win32uiole\n",
      "bleach              ipywidgets          reprlib             win32verstamp\n",
      "bokeh               isapi               requests            win32wnet\n",
      "boto                isort               rlcompleter         win_inet_pton\n",
      "bottleneck          isympy              rmagic              win_unicode_console\n",
      "brain_argparse      itertools           rope                wincertstore\n",
      "brain_attrs         itsdangerous        rtree               winerror\n",
      "brain_boto3         jdcal               ruamel_yaml         winioctlcon\n",
      "brain_builtin_inference jedi                run                 winnt\n",
      "brain_collections   jinja2              runpy               winperf\n",
      "brain_crypt         joblib              sched               winpty\n",
      "brain_curses        json                scipy               winreg\n",
      "brain_dataclasses   json5               scripts             winsound\n",
      "brain_dateutil      jsonschema          seaborn             winxpgui\n",
      "brain_fstrings      jupyter             secrets             winxptheme\n",
      "brain_functools     jupyter_client      select              wrapt\n",
      "brain_gi            jupyter_console     selectors           wsgiref\n",
      "brain_hashlib       jupyter_core        send2trash          xdrlib\n",
      "brain_http          jupyterlab          servicemanager      xlrd\n",
      "brain_io            jupyterlab_server   setuptools          xlsxwriter\n",
      "brain_mechanize     keyring             shelve              xlwings\n",
      "brain_multiprocessing keyword             shlex               xlwt\n",
      "brain_namedtuple_enum kiwisolver          shutil              xml\n",
      "brain_nose          lazy_object_proxy   signal              xmlrpc\n",
      "brain_numpy_core_fromnumeric lib2to3             simplegeneric       xmltodict\n",
      "brain_numpy_core_function_base libarchive          singledispatch      xxsubtype\n",
      "brain_numpy_core_multiarray libfuturize         singledispatch_helpers yaml\n",
      "brain_numpy_core_numeric libpasteurize       sip                 yapf\n",
      "brain_numpy_core_numerictypes lief                sipconfig           yapftests\n",
      "brain_numpy_core_umath linecache           sipdistutils        zict\n",
      "brain_numpy_ndarray llvmlite            site                zipapp\n",
      "brain_numpy_random_mtrand locale              six                 zipfile\n",
      "brain_numpy_utils   locket              skimage             zipimport\n",
      "brain_pkg_resources logging             sklearn             zipp\n",
      "brain_pytest        lxml                smtpd               zlib\n",
      "brain_qt            lzma                smtplib             zmq\n",
      "brain_random        mailbox             sndhdr              zope\n",
      "brain_re            mailcap             snowballstemmer     \n",
      "brain_responses     markupsafe          socket              \n",
      "\n",
      "Enter any module name to get more help.  Or, type \"modules spam\" to search\n",
      "for modules whose name or summary contain the string \"spam\".\n",
      "\n"
     ]
    }
   ],
   "source": [
    "help('modules')"
   ]
  },
  {
   "cell_type": "code",
   "execution_count": null,
   "metadata": {},
   "outputs": [],
   "source": []
  },
  {
   "cell_type": "code",
   "execution_count": null,
   "metadata": {},
   "outputs": [],
   "source": []
  },
  {
   "cell_type": "code",
   "execution_count": null,
   "metadata": {},
   "outputs": [],
   "source": []
  },
  {
   "cell_type": "code",
   "execution_count": null,
   "metadata": {},
   "outputs": [],
   "source": []
  },
  {
   "cell_type": "code",
   "execution_count": null,
   "metadata": {},
   "outputs": [],
   "source": []
  },
  {
   "cell_type": "code",
   "execution_count": null,
   "metadata": {},
   "outputs": [],
   "source": []
  },
  {
   "cell_type": "code",
   "execution_count": null,
   "metadata": {},
   "outputs": [],
   "source": []
  },
  {
   "cell_type": "code",
   "execution_count": null,
   "metadata": {},
   "outputs": [],
   "source": []
  },
  {
   "cell_type": "code",
   "execution_count": null,
   "metadata": {},
   "outputs": [],
   "source": []
  },
  {
   "cell_type": "code",
   "execution_count": null,
   "metadata": {},
   "outputs": [],
   "source": []
  },
  {
   "cell_type": "code",
   "execution_count": null,
   "metadata": {},
   "outputs": [],
   "source": []
  },
  {
   "cell_type": "code",
   "execution_count": null,
   "metadata": {},
   "outputs": [],
   "source": []
  },
  {
   "cell_type": "code",
   "execution_count": null,
   "metadata": {},
   "outputs": [],
   "source": []
  },
  {
   "cell_type": "code",
   "execution_count": null,
   "metadata": {},
   "outputs": [],
   "source": []
  },
  {
   "cell_type": "code",
   "execution_count": null,
   "metadata": {},
   "outputs": [],
   "source": []
  },
  {
   "cell_type": "code",
   "execution_count": null,
   "metadata": {},
   "outputs": [],
   "source": []
  },
  {
   "cell_type": "code",
   "execution_count": null,
   "metadata": {},
   "outputs": [],
   "source": []
  },
  {
   "cell_type": "code",
   "execution_count": null,
   "metadata": {},
   "outputs": [],
   "source": []
  },
  {
   "cell_type": "code",
   "execution_count": null,
   "metadata": {},
   "outputs": [],
   "source": []
  },
  {
   "cell_type": "code",
   "execution_count": null,
   "metadata": {},
   "outputs": [],
   "source": []
  },
  {
   "cell_type": "code",
   "execution_count": null,
   "metadata": {},
   "outputs": [],
   "source": []
  },
  {
   "cell_type": "code",
   "execution_count": null,
   "metadata": {},
   "outputs": [],
   "source": []
  }
 ],
 "metadata": {
  "kernelspec": {
   "display_name": "Python 3",
   "language": "python",
   "name": "python3"
  },
  "language_info": {
   "codemirror_mode": {
    "name": "ipython",
    "version": 3
   },
   "file_extension": ".py",
   "mimetype": "text/x-python",
   "name": "python",
   "nbconvert_exporter": "python",
   "pygments_lexer": "ipython3",
   "version": "3.8.3"
  }
 },
 "nbformat": 4,
 "nbformat_minor": 4
}
