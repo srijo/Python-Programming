{
  "nbformat": 4,
  "nbformat_minor": 0,
  "metadata": {
    "colab": {
      "name": "float_assignment.ipynb",
      "provenance": [],
      "include_colab_link": true
    },
    "kernelspec": {
      "name": "python3",
      "display_name": "Python 3"
    }
  },
  "cells": [
    {
      "cell_type": "markdown",
      "metadata": {
        "id": "view-in-github",
        "colab_type": "text"
      },
      "source": [
        "<a href=\"https://colab.research.google.com/github/srijo/Python-Programming/blob/main/float_assignment.ipynb\" target=\"_parent\"><img src=\"https://colab.research.google.com/assets/colab-badge.svg\" alt=\"Open In Colab\"/></a>"
      ]
    },
    {
      "cell_type": "code",
      "metadata": {
        "id": "dlrMB-Qy2taV",
        "outputId": "1746e3a4-fa79-48ce-f2f6-c0c90afc542d",
        "colab": {
          "base_uri": "https://localhost:8080/"
        }
      },
      "source": [
        "#Declare a float value and store it in a variable. \n",
        "\n",
        "a=255.10\n",
        "print(type(a),id(a))\n",
        "\n",
        "\n",
        "\n",
        "#Check the type and print the id of the same.\n",
        "\n",
        "\n"
      ],
      "execution_count": 1,
      "outputs": [
        {
          "output_type": "stream",
          "text": [
            "<class 'float'> 140595090539672\n"
          ],
          "name": "stdout"
        }
      ]
    },
    {
      "cell_type": "code",
      "metadata": {
        "id": "IL4fVDHg2wbI",
        "outputId": "4c3cebdd-a86e-4d25-b125-10b10a88045e",
        "colab": {
          "base_uri": "https://localhost:8080/"
        }
      },
      "source": [
        "#Arithmatic Operations on float\n",
        "#Take two different float values.\n",
        "#Store them in two different variables.\n",
        "a=10.2\n",
        "b=20.2\n",
        "Sum=a+b\n",
        "Diff=a-b\n",
        "Prod=a*b\n",
        "Div=a/b\n",
        "Rem=a%b\n",
        "Quo=a//b\n",
        "Pow=pow(a,b)\n",
        "print(Sum,Diff,Prod,Div,Rem,Quo,Pow)\n",
        "#Do below operations on them:-\n",
        "    #Find sum of both numbers\n",
        "\n",
        "    #Find differce between them\n",
        "    #Find the product of both numbers.\n",
        "\n",
        "    #Find value after dividing first num with second number\n",
        "\n",
        "    #Find the remainder after dividing first number with second number\n",
        "\n",
        "    #Find the quotient after dividing first number with second number\n",
        "\n",
        "    #Find the result of first num to the power of second number.\n"
      ],
      "execution_count": 3,
      "outputs": [
        {
          "output_type": "stream",
          "text": [
            "30.4 -10.0 206.04 0.504950495049505 10.2 0.0 2.364413713591828e+20\n"
          ],
          "name": "stdout"
        }
      ]
    },
    {
      "cell_type": "code",
      "metadata": {
        "id": "atCFaH6c2492",
        "outputId": "09b6ca7b-2de9-4ac6-eb5c-acbc1abce941",
        "colab": {
          "base_uri": "https://localhost:8080/"
        }
      },
      "source": [
        "#Comparison Operators on float\n",
        "#Take two different float values.\n",
        "#Store them in two different variables.\n",
        "\n",
        "#Do below operations on them:-\n",
        "    #Compare these two numbers with below operator:-\n",
        "        #Greater than, '>'\n",
        "\n",
        "        #Smaller than, '<'\n",
        "\n",
        "        #Greater than or equal to, '>='\n",
        "\n",
        "        #Less than or equal to, '<='\n",
        "\n",
        "#Observe their output(return type should be boolean)\n",
        "\n",
        "a=10.2\n",
        "b=11.1\n",
        "print(a > b) #false\n",
        "print(a < b) #true\n",
        "print(a >= b) #false\n",
        "print(a <= b) #true\n",
        "\n",
        "\n",
        "\n",
        "\n",
        "\n",
        "\n"
      ],
      "execution_count": 5,
      "outputs": [
        {
          "output_type": "stream",
          "text": [
            "False\n",
            "True\n",
            "False\n",
            "True\n"
          ],
          "name": "stdout"
        }
      ]
    },
    {
      "cell_type": "code",
      "metadata": {
        "id": "agi3U3863A5i",
        "outputId": "5c2176ce-0b30-4dd2-ed99-6e318b790690",
        "colab": {
          "base_uri": "https://localhost:8080/"
        }
      },
      "source": [
        "#Equality Operator\n",
        "#Take two different float values.\n",
        "#Store them in two different variables.\n",
        "\n",
        "#Equuate them using equality operator (==, !=)\n",
        "\n",
        "#Observe the output(return type should be boolean)\n",
        "\n",
        "\n",
        "a=10.1\n",
        "b=11.2\n",
        "print(a == b) #false\n",
        "print(a != b) #true\n",
        "\n",
        "\n",
        "\n"
      ],
      "execution_count": 6,
      "outputs": [
        {
          "output_type": "stream",
          "text": [
            "False\n",
            "True\n"
          ],
          "name": "stdout"
        }
      ]
    },
    {
      "cell_type": "code",
      "metadata": {
        "id": "3HLlgaEt3EnJ",
        "outputId": "99ccb852-c23d-4d11-866a-1512cc8ec7ca",
        "colab": {
          "base_uri": "https://localhost:8080/"
        }
      },
      "source": [
        "#Logical operators\n",
        "#Observe the output of below code\n",
        "#Cross check the output manually\n",
        "\n",
        "print(10.20 and 20.30)       #both are true and second value taken >Output is 20.3\n",
        "print(0.0 and 20.30)         #First is false so first value taken->Output is 0.0\n",
        "print(20.30 and 0.0)         #Goes to till second and second value is false so second is taken>Output is 0.0\n",
        "print(0.0 and 0.0)           #First is false so first value is taken->Output is 0.0\n",
        "\n",
        "print(10.20 or 20.30)        #First is True so first value is taken>Output is 10.2\n",
        "print(0.0 or 20.30)          #Goes to till second and second is true second value is taken->Output is 20.3\n",
        "print(20.30 or 0.0)          #First is True so first value is taken->Output is 20.3\n",
        "print(0.0 or 0.0)            #Goes to till second and secod is also false and second value is taken>Output is 0.0\n",
        "\n",
        "print(not 10.20)             #-Not of true is false->Output is False\n",
        "print(not 0.0)               #Not of false is True>Output is True\n",
        "\n",
        "#Observed the same"
      ],
      "execution_count": 7,
      "outputs": [
        {
          "output_type": "stream",
          "text": [
            "20.3\n",
            "0.0\n",
            "0.0\n",
            "0.0\n",
            "10.2\n",
            "20.3\n",
            "20.3\n",
            "0.0\n",
            "False\n",
            "True\n"
          ],
          "name": "stdout"
        }
      ]
    },
    {
      "cell_type": "code",
      "metadata": {
        "id": "7YdyRNtk3UZd"
      },
      "source": [
        "#What is the output of expression inside print statement. Cross check before running the program.\n",
        "a = 10.20\n",
        "b - 10.20\n",
        "print(a is b)          #True or False? True 10.20<256\n",
        "print(a is not b)      #True or False? False\n",
        "\n",
        "\n",
        "# Why the Id of float values are different when the same value is assigned to two different variables\n",
        "# ex: a = 10.5 b=10.5. but id will be same if I assign the variable having float i.e. a=c then both a anc c's\n",
        "# Id are same\n"
      ],
      "execution_count": null,
      "outputs": []
    },
    {
      "cell_type": "code",
      "metadata": {
        "id": "iTvnIMLd3VLW"
      },
      "source": [
        "#Bitwise operation is not applicable between instances of float.\n",
        "## Why the Id of float values are different when the same value is assigned to two different variables\n",
        "## ex: a = 10.5 b=10.5. but id will be same if I assign the variable having float i.e. a=c then both a anc c's\n",
        "## Id are same\n",
        "#Object reusability concept is not applicable on float values."
      ],
      "execution_count": null,
      "outputs": []
    },
    {
      "cell_type": "code",
      "metadata": {
        "id": "29AVJHpx3YUo"
      },
      "source": [
        "#Membership operation\n",
        "#in, not in are two membership operators and it returns boolean value\n",
        "\n",
        "print('2.7' in 'Python2.7.8')              #True\n",
        "print(10.20 in [10,10.20,10+20j,'Python']) #True\n",
        "print(10.20 in (10,10.20,10+20j,'Python')) # True\n",
        "print(20.30 in {1,20.30,30+40j})           # True\n",
        "print(2.3 in {1:100, 2.3:200, 30+40j:300}) # True\n",
        "print(10 in range(20))                     # True"
      ],
      "execution_count": null,
      "outputs": []
    }
  ]
}